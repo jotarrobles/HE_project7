{
 "cells": [
  {
   "cell_type": "markdown",
   "id": "337fc78b",
   "metadata": {},
   "source": [
    "## Privacy preserving data analysis and diagnosis"
   ]
  },
  {
   "cell_type": "markdown",
   "id": "523ff9eb",
   "metadata": {},
   "source": [
    "This application will receive a Medical dataset with both medical and personal information about patients. This data include:\n",
    "- Name\n",
    "- Age\n",
    "- Gender\n",
    "- Telephone\n",
    "- BMI\n",
    "- Heart Pressure\n",
    "\n",
    "We want to process this data in a secure manner, to comply with Privacy Policies, while being able to diagnose the patients."
   ]
  },
  {
   "cell_type": "markdown",
   "id": "5fda46d2",
   "metadata": {},
   "source": [
    "### 1. Import libraries and set the Context\n",
    "We will use heaan for encryption and pandas for working with datasets."
   ]
  },
  {
   "cell_type": "code",
   "execution_count": null,
   "id": "9826abf4",
   "metadata": {},
   "outputs": [],
   "source": [
    "import pandas as pd\n",
    "import numpy as np\n",
    "import heaan_stat \n",
    "# init context\n",
    "context = heaan_stat.Context(\n",
    "    key_dir_path='./keys',\n",
    "    generate_keys=True,  # To use existing keys, set it to False or omit this\n",
    ")"
   ]
  },
  {
   "cell_type": "markdown",
   "id": "f1bf7f1b",
   "metadata": {},
   "source": [
    "The dataset used is imported from Kaggle: https://www.kaggle.com/datasets/oktayrdeki/heart-disease "
   ]
  },
  {
   "cell_type": "code",
   "execution_count": 2,
   "id": "dc04c3ba",
   "metadata": {},
   "outputs": [
    {
     "name": "stdout",
     "output_type": "stream",
     "text": [
      "Index(['Age', 'Gender', 'Blood Pressure', 'Cholesterol Level',\n",
      "       'Exercise Habits', 'Smoking', 'Family Heart Disease', 'Diabetes', 'BMI',\n",
      "       'High Blood Pressure', 'Low HDL Cholesterol', 'High LDL Cholesterol',\n",
      "       'Alcohol Consumption', 'Stress Level', 'Sleep Hours',\n",
      "       'Sugar Consumption', 'Triglyceride Level', 'Fasting Blood Sugar',\n",
      "       'CRP Level', 'Homocysteine Level', 'Heart Disease Status', 'Name',\n",
      "       'Telephone'],\n",
      "      dtype='object')\n"
     ]
    }
   ],
   "source": [
    "df = pd.read_csv('heart.csv')\n",
    "# Check structure of the DataFrame\n",
    "print(df.columns)"
   ]
  },
  {
   "cell_type": "markdown",
   "id": "2d79e009",
   "metadata": {},
   "source": [
    "### 2. Preprocess the Data\n",
    "After checking the columns of our dataset, we decide the ones we want to keep. Since some are Categorical, we must set the type as category."
   ]
  },
  {
   "cell_type": "code",
   "execution_count": 3,
   "id": "eec5f16d",
   "metadata": {},
   "outputs": [
    {
     "name": "stderr",
     "output_type": "stream",
     "text": [
      "/tmp/ipykernel_19304/2675493866.py:3: SettingWithCopyWarning: \n",
      "A value is trying to be set on a copy of a slice from a DataFrame.\n",
      "Try using .loc[row_indexer,col_indexer] = value instead\n",
      "\n",
      "See the caveats in the documentation: https://pandas.pydata.org/pandas-docs/stable/user_guide/indexing.html#returning-a-view-versus-a-copy\n",
      "  df_heart[\"Gender\"] = df_heart[\"Gender\"].astype('category')\n",
      "/tmp/ipykernel_19304/2675493866.py:4: SettingWithCopyWarning: \n",
      "A value is trying to be set on a copy of a slice from a DataFrame.\n",
      "Try using .loc[row_indexer,col_indexer] = value instead\n",
      "\n",
      "See the caveats in the documentation: https://pandas.pydata.org/pandas-docs/stable/user_guide/indexing.html#returning-a-view-versus-a-copy\n",
      "  df_heart[\"Heart Disease Status\"] = df_heart[\"Heart Disease Status\"].astype('category')\n"
     ]
    }
   ],
   "source": [
    "attributes = [\"Age\", \"Gender\", \"Blood Pressure\", \"Cholesterol Level\", \"BMI\", \"Heart Disease Status\"]\n",
    "df_heart = df[attributes]\n",
    "df_heart[\"Gender\"] = df_heart[\"Gender\"].astype('category')\n",
    "df_heart[\"Heart Disease Status\"] = df_heart[\"Heart Disease Status\"].astype('category')\n"
   ]
  },
  {
   "cell_type": "markdown",
   "id": "ea77e471",
   "metadata": {},
   "source": [
    "### 3. Encryption\n",
    "Now that we have our dataset preprocessed and cut down, we can encrypt it using our HE Context. "
   ]
  },
  {
   "cell_type": "code",
   "execution_count": 11,
   "id": "ed983cc2",
   "metadata": {},
   "outputs": [
    {
     "name": "stdout",
     "output_type": "stream",
     "text": [
      "<class 'heaan_stat.frame.public.he_frame.HEFrame'>\n",
      "Data rows: 10000\n",
      "Data columns (total 6 columns):\n",
      "#    Column                    Dtype      Encrypted \n",
      "---  ------------------------  ---------  ----------\n",
      "  0  Age                       numeric    True      \n",
      "  1  BMI                       numeric    True      \n",
      "  2  Blood Pressure            numeric    True      \n",
      "  3  Cholesterol Level         numeric    True      \n",
      "  4  Gender                    category   True      \n",
      "  5  Heart Disease Status      category   True      \n",
      "dtypes: numeric(4), category(2)\n"
     ]
    }
   ],
   "source": [
    "from heaan_stat import HEFrame\n",
    "hf = HEFrame(context, df_heart, encrypt_columns=True)\n",
    "print(hf.info())"
   ]
  },
  {
   "cell_type": "markdown",
   "id": "57c64a7f",
   "metadata": {},
   "source": [
    "This is our encrypted dataset. We can access individual columns (returned as HESeries) and even decrypt them, without decrypting the entire dataset. This way we can check some patients information without revealing all their data."
   ]
  },
  {
   "cell_type": "code",
   "execution_count": 15,
   "id": "6d851ab7",
   "metadata": {},
   "outputs": [
    {
     "name": "stdout",
     "output_type": "stream",
     "text": [
      "<class 'heaan_stat.frame.public.he_frame.HEFrame'>\n",
      "Data rows: 10000\n",
      "Data columns (total 6 columns):\n",
      "#    Column                    Dtype      Encrypted \n",
      "---  ------------------------  ---------  ----------\n",
      "  0  Age                       numeric    False     \n",
      "  1  BMI                       numeric    True      \n",
      "  2  Blood Pressure            numeric    True      \n",
      "  3  Cholesterol Level         numeric    True      \n",
      "  4  Gender                    category   False     \n",
      "  5  Heart Disease Status      category   True      \n",
      "dtypes: numeric(4), category(2)\n"
     ]
    }
   ],
   "source": [
    "hf['Age'].decrypt(inplace=True)\n",
    "hf['Gender'].decrypt(inplace=True)\n",
    "print(hf.info())"
   ]
  },
  {
   "cell_type": "markdown",
   "id": "aa41ab62",
   "metadata": {},
   "source": [
    "### 4. Statistical Operations\n",
    "Our dataset contains data related to the presence/absence of Heart Disease. \n",
    "We can perform statistical operations on the encrypted data to obtain some information \n",
    "about how these attributes correlate to the disease.\n",
    "First, we will take a smaller sample of the data (for performance)"
   ]
  },
  {
   "cell_type": "code",
   "execution_count": 6,
   "id": "bdce4d08",
   "metadata": {},
   "outputs": [
    {
     "name": "stdout",
     "output_type": "stream",
     "text": [
      "<class 'pandas.core.frame.DataFrame'>\n",
      "RangeIndex: 100 entries, 0 to 99\n",
      "Data columns (total 6 columns):\n",
      " #   Column                Non-Null Count  Dtype   \n",
      "---  ------                --------------  -----   \n",
      " 0   Age                   100 non-null    float64 \n",
      " 1   Gender                100 non-null    category\n",
      " 2   Blood Pressure        99 non-null     float64 \n",
      " 3   Cholesterol Level     100 non-null    float64 \n",
      " 4   BMI                   100 non-null    float64 \n",
      " 5   Heart Disease Status  100 non-null    category\n",
      "dtypes: category(2), float64(4)\n",
      "memory usage: 3.7 KB\n"
     ]
    }
   ],
   "source": [
    "sample_df = df_heart[0:100]\n",
    "sample_df.info()"
   ]
  },
  {
   "cell_type": "markdown",
   "id": "3777dbfa",
   "metadata": {},
   "source": [
    "And of course we encrypt it"
   ]
  },
  {
   "cell_type": "code",
   "execution_count": 16,
   "id": "983326f3",
   "metadata": {},
   "outputs": [
    {
     "name": "stdout",
     "output_type": "stream",
     "text": [
      "<class 'heaan_stat.frame.public.he_frame.HEFrame'>\n",
      "Data rows: 100\n",
      "Data columns (total 6 columns):\n",
      "#    Column                    Dtype      Encrypted \n",
      "---  ------------------------  ---------  ----------\n",
      "  0  Age                       numeric    True      \n",
      "  1  BMI                       numeric    True      \n",
      "  2  Blood Pressure            numeric    True      \n",
      "  3  Cholesterol Level         numeric    True      \n",
      "  4  Gender                    category   True      \n",
      "  5  Heart Disease Status      category   True      \n",
      "dtypes: numeric(4), category(2)\n"
     ]
    }
   ],
   "source": [
    "hf_sample = HEFrame(context, sample_df, encrypt_columns=True)\n",
    "print(hf_sample.info())"
   ]
  },
  {
   "cell_type": "markdown",
   "id": "e9699fc7",
   "metadata": {},
   "source": [
    "With the encrypted sample dataset, we can group by the Gender category.\n",
    "Having the dataset grouped, we can calculate the mean values of different attributes.\n",
    "We then decrypt this mean value and we can plot it to compare it, all without having to access\n",
    "the decrypted data."
   ]
  },
  {
   "cell_type": "code",
   "execution_count": 8,
   "id": "8326ddb4",
   "metadata": {},
   "outputs": [
    {
     "data": {
      "image/png": "[encoded data removed]",
      "text/plain": [
       "<Figure size 640x480 with 4 Axes>"
      ]
     },
     "metadata": {},
     "output_type": "display_data"
    }
   ],
   "source": [
    "hg = hf_sample.groupby('Gender')\n",
    "mean = hg.mean()\n",
    "mean.decrypt(inplace=True)\n",
    "mean.plot()"
   ]
  },
  {
   "cell_type": "markdown",
   "id": "948c9b1e",
   "metadata": {},
   "source": [
    "### Find most relevant risk factors"
   ]
  },
  {
   "cell_type": "markdown",
   "id": "c2341fa8",
   "metadata": {},
   "source": [
    "Using statistical tools like correlation and covariance, analysis of the data could be performed to find what the highest risk factors are. With this, we could define rules to alert the new patients who present risk factors. So the patients can be diagnosed anonimously to the analist, and then the doctor could decrypt the personal data to study the diagnosis of the given patient."
   ]
  },
  {
   "cell_type": "code",
   "execution_count": null,
   "id": "41a11d89",
   "metadata": {},
   "outputs": [],
   "source": [
    "\n"
   ]
  },
  {
   "cell_type": "code",
   "execution_count": null,
   "id": "c5030bc0",
   "metadata": {},
   "outputs": [],
   "source": []
  }
 ],
 "metadata": {
  "kernelspec": {
   "display_name": "Python 3",
   "language": "python",
   "name": "python3"
  },
  "language_info": {
   "codemirror_mode": {
    "name": "ipython",
    "version": 3
   },
   "file_extension": ".py",
   "mimetype": "text/x-python",
   "name": "python",
   "nbconvert_exporter": "python",
   "pygments_lexer": "ipython3",
   "version": "3.10.12"
  }
 },
 "nbformat": 4,
 "nbformat_minor": 5
}
